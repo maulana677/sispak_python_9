{
  "nbformat": 4,
  "nbformat_minor": 0,
  "metadata": {
    "colab": {
      "provenance": [],
      "collapsed_sections": []
    },
    "kernelspec": {
      "name": "python3",
      "display_name": "Python 3"
    },
    "language_info": {
      "name": "python"
    }
  },
  "cells": [
    {
      "cell_type": "markdown",
      "source": [
        "1. Membuat array menggunakan fungsi dari library numpy"
      ],
      "metadata": {
        "id": "dM55J19YF1Va"
      }
    },
    {
      "cell_type": "code",
      "execution_count": 43,
      "metadata": {
        "colab": {
          "base_uri": "https://localhost:8080/"
        },
        "id": "u0huQEfPFwf_",
        "outputId": "ab31f627-73d0-4ca4-a4ca-4fc181ba5e74"
      },
      "outputs": [
        {
          "output_type": "stream",
          "name": "stdout",
          "text": [
            "[9 6 9 6 7 1 7 1 1 2]\n"
          ]
        }
      ],
      "source": [
        "import numpy as np\n",
        "\n",
        "na = np.array([9,6,9,6,7,1,7,1,1,2])\n",
        "print(na)"
      ]
    },
    {
      "cell_type": "markdown",
      "source": [
        "2. Mengubah tipe data array menjadi list"
      ],
      "metadata": {
        "id": "v9yNsSNgGzA3"
      }
    },
    {
      "cell_type": "code",
      "source": [
        "b = np.array([9,6,9,6,7,1,7,1,1,2])\n",
        "print(b[0])\n",
        "print(b[1])\n",
        "print(b[2])\n",
        "print(b[3])\n",
        "print(b[4])\n",
        "print(b[5])\n",
        "print(b[6])\n",
        "print(b[7])\n",
        "print(b[8])\n",
        "print(b[9])"
      ],
      "metadata": {
        "colab": {
          "base_uri": "https://localhost:8080/"
        },
        "id": "OEwqVAIXIRzr",
        "outputId": "a14446c6-211e-4bfb-f6e2-9a3372c63fc0"
      },
      "execution_count": 44,
      "outputs": [
        {
          "output_type": "stream",
          "name": "stdout",
          "text": [
            "9\n",
            "6\n",
            "9\n",
            "6\n",
            "7\n",
            "1\n",
            "7\n",
            "1\n",
            "1\n",
            "2\n"
          ]
        }
      ]
    },
    {
      "cell_type": "markdown",
      "source": [
        "3. Tampilkan nomer urut (index), nilai, dan kondisi jika nilai kurang dari 6 tidak lulus, sebaliknya lulus, menggunakan perulangan"
      ],
      "metadata": {
        "id": "-xCA5x5HJgeP"
      }
    },
    {
      "cell_type": "code",
      "source": [
        "a = na.tolist()\n",
        "print('tipe data awal',na)\n",
        "print('tipe data akhir',a)\n",
        "\n",
        "\n",
        "for i, nilai in enumerate(a):\n",
        "  print('nomor urut ke',i , 'dengan nilai',nilai)\n",
        "  if(nilai >= 6):\n",
        "    print('lulus')\n",
        "  else:\n",
        "    print('belum lulus')"
      ],
      "metadata": {
        "colab": {
          "base_uri": "https://localhost:8080/"
        },
        "id": "qmBYDrirJyj7",
        "outputId": "82a71e7a-dcc0-4b5c-a4a4-b67f06d025b1"
      },
      "execution_count": 45,
      "outputs": [
        {
          "output_type": "stream",
          "name": "stdout",
          "text": [
            "tipe data awal [9 6 9 6 7 1 7 1 1 2]\n",
            "tipe data akhir [9, 6, 9, 6, 7, 1, 7, 1, 1, 2]\n",
            "nomor urut ke 0 dengan nilai 9\n",
            "lulus\n",
            "nomor urut ke 1 dengan nilai 6\n",
            "lulus\n",
            "nomor urut ke 2 dengan nilai 9\n",
            "lulus\n",
            "nomor urut ke 3 dengan nilai 6\n",
            "lulus\n",
            "nomor urut ke 4 dengan nilai 7\n",
            "lulus\n",
            "nomor urut ke 5 dengan nilai 1\n",
            "belum lulus\n",
            "nomor urut ke 6 dengan nilai 7\n",
            "lulus\n",
            "nomor urut ke 7 dengan nilai 1\n",
            "belum lulus\n",
            "nomor urut ke 8 dengan nilai 1\n",
            "belum lulus\n",
            "nomor urut ke 9 dengan nilai 2\n",
            "belum lulus\n"
          ]
        }
      ]
    },
    {
      "cell_type": "markdown",
      "source": [
        "4. Tampilan list nilai secara terurut dan hapus nilai yang sama"
      ],
      "metadata": {
        "id": "koLET9RvPP_X"
      }
    },
    {
      "cell_type": "code",
      "source": [
        "a = [9,6,9,6,7,1,7,1,1,2]\n",
        "def remove_duplicate(duplist):\n",
        "  noduplist = []\n",
        "\n",
        "  for element in duplist:\n",
        "    if element not in noduplist:\n",
        "      noduplist.append(element)\n",
        "\n",
        "  return noduplist\n",
        "\n",
        "print('list nilai awal:', na)\n",
        "print('list nilai akhir:',remove_duplicate(a))"
      ],
      "metadata": {
        "colab": {
          "base_uri": "https://localhost:8080/"
        },
        "id": "mWFRUvTEPYnq",
        "outputId": "6d7d8cd1-9d23-4b48-8cd0-5d3ef5271b4d"
      },
      "execution_count": 47,
      "outputs": [
        {
          "output_type": "stream",
          "name": "stdout",
          "text": [
            "list nilai awal: [9 6 9 6 7 1 7 1 1 2]\n",
            "list nilai akhir: [9, 6, 7, 1, 2]\n"
          ]
        }
      ]
    },
    {
      "cell_type": "markdown",
      "source": [
        "5. Ambil nilai 2 secara random di list nilai kemudian tampilkan nilai yang tidak terambil "
      ],
      "metadata": {
        "id": "Sp4Z-rLnPZNj"
      }
    },
    {
      "cell_type": "code",
      "source": [
        "na = np.array([1, 2, 6])\n",
        "print('nilai awal:', na)\n",
        "print('nilai random yang diambil:', na[:2])\n",
        "print('nilai yang tidak diambil:', na[2:])"
      ],
      "metadata": {
        "colab": {
          "base_uri": "https://localhost:8080/"
        },
        "id": "Dyqn2cHnPnzM",
        "outputId": "f53e332c-4eda-4602-d0e7-090c6709be25"
      },
      "execution_count": 76,
      "outputs": [
        {
          "output_type": "stream",
          "name": "stdout",
          "text": [
            "nilai awal: [1 2 6]\n",
            "nilai random yang diambil: [1 2]\n",
            "nilai yang tidak diambil: [6]\n"
          ]
        }
      ]
    }
  ]
}